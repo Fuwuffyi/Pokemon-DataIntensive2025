{
 "cells": [
  {
   "cell_type": "code",
   "execution_count": 11,
   "id": "2b5a6a52",
   "metadata": {},
   "outputs": [],
   "source": [
    "from flask import Flask, render_template\n",
    "import pandas as pd"
   ]
  },
  {
   "cell_type": "code",
   "execution_count": 12,
   "id": "9d737b49",
   "metadata": {},
   "outputs": [],
   "source": [
    "# Otteniamo tutti i pokemon\n",
    "dataset_base_path: str = './datasets/'\n",
    "pokemon_file_path: str = dataset_base_path + '/pokemon.csv'\n",
    "dataset_pokemon: pd.DataFrame = pd.read_csv(pokemon_file_path)\n",
    "dataset_pokemon.set_index('#', inplace=True)"
   ]
  },
  {
   "cell_type": "code",
   "execution_count": 13,
   "id": "94cd90e8",
   "metadata": {},
   "outputs": [
    {
     "name": "stdout",
     "output_type": "stream",
     "text": [
      " * Serving Flask app '__main__'\n",
      " * Debug mode: off\n"
     ]
    },
    {
     "name": "stderr",
     "output_type": "stream",
     "text": [
      "WARNING: This is a development server. Do not use it in a production deployment. Use a production WSGI server instead.\n",
      " * Running on http://127.0.0.1:5000\n",
      "Press CTRL+C to quit\n",
      "127.0.0.1 - - [27/May/2025 20:53:08] \"GET / HTTP/1.1\" 200 -\n"
     ]
    }
   ],
   "source": [
    "app: Flask = Flask(__name__, template_folder='webpage')\n",
    "\n",
    "@app.route('/')\n",
    "def one_v_one_battle():\n",
    "    return render_template('1v1_battle.html', pokemon_choices=dataset_pokemon['Name'])\n",
    "\n",
    "app.run()"
   ]
  }
 ],
 "metadata": {
  "kernelspec": {
   "display_name": "venv",
   "language": "python",
   "name": "python3"
  },
  "language_info": {
   "codemirror_mode": {
    "name": "ipython",
    "version": 3
   },
   "file_extension": ".py",
   "mimetype": "text/x-python",
   "name": "python",
   "nbconvert_exporter": "python",
   "pygments_lexer": "ipython3",
   "version": "3.12.9"
  }
 },
 "nbformat": 4,
 "nbformat_minor": 5
}
