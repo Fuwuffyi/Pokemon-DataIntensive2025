{
 "cells": [
  {
   "cell_type": "code",
   "execution_count": 1,
   "id": "2b5a6a52",
   "metadata": {},
   "outputs": [],
   "source": [
    "# Librerie base\n",
    "import pandas as pd\n",
    "\n",
    "import numpy as np\n",
    "\n",
    "import os\n",
    "\n",
    "# Modelli\n",
    "import sklearn as skl\n",
    "from sklearn.pipeline import Pipeline\n",
    "from xgboost import XGBRegressor\n",
    "\n",
    "import joblib\n",
    "from sklearn.preprocessing import FunctionTransformer\n",
    "\n",
    "# Flask\n",
    "from flask import Flask, render_template, request"
   ]
  },
  {
   "cell_type": "code",
   "execution_count": 2,
   "id": "9d737b49",
   "metadata": {},
   "outputs": [],
   "source": [
    "# Definizione dei percorsi e dei parametri globali\n",
    "DATASET_BASE_PATH: str = './datasets'\n",
    "COMBATS_PATH: str = f\"{DATASET_BASE_PATH}/combats.csv\"\n",
    "TYPE_CHART_PATH: str = f\"{DATASET_BASE_PATH}/type_chart.csv\"\n",
    "POKEMON_PATH: str = f\"{DATASET_BASE_PATH}/pokemon.csv\"\n",
    "MODEL_DIR: str = './models'\n",
    "RANDOM_STATE: int = 42\n",
    "# Dimensioni dei set di dati\n",
    "TEST_SIZE: float = 0.2        # 20% per il test\n",
    "VALIDATION_SIZE: float = 0.2  # 20% per la validazione\n",
    "                              # 60% per l'addestramento"
   ]
  },
  {
   "cell_type": "code",
   "execution_count": 3,
   "id": "f22cc6a5",
   "metadata": {},
   "outputs": [],
   "source": [
    "def load_pokemon_data(combats_path: str, pokemon_path: str) -> pd.DataFrame:\n",
    "   df_combats = pd.read_csv(combats_path)\n",
    "   df_pokemon = pd.read_csv(pokemon_path, index_col=\"#\").fillna(\"None\")\n",
    "   # Prerprocessing del campo winner per avere 0 se vince il primo Pokemon e 1 se vince il_So\n",
    "   df_combats[\"Winner\"] = (df_combats[\"Winner\"] != df_combats[\"First_pokemon\"]).astype(int)\n",
    "   # Merge first and second Pokémon stats\n",
    "   return df_combats.merge(\n",
    "      df_pokemon.add_suffix(\"_F\"), how=\"left\",\n",
    "      left_on=\"First_pokemon\", right_index=True\n",
    "   ).merge(\n",
    "      df_pokemon.add_suffix(\"_S\"), how=\"left\",\n",
    "      left_on=\"Second_pokemon\", right_index=True\n",
    "   ).drop(\n",
    "      columns=[\"First_pokemon\", \"Second_pokemon\"]\n",
    "   )"
   ]
  },
  {
   "cell_type": "code",
   "execution_count": 4,
   "id": "2163213e",
   "metadata": {},
   "outputs": [],
   "source": [
    "# Caricamento dei DataFrame\n",
    "df_type_chart = pd.read_csv(TYPE_CHART_PATH).fillna(\"None\")\n",
    "df_pokemon = pd.read_csv(POKEMON_PATH, index_col=\"#\").fillna(\"None\")\n",
    "df_combats: pd.DataFrame = load_pokemon_data(COMBATS_PATH, POKEMON_PATH)"
   ]
  },
  {
   "cell_type": "code",
   "execution_count": 5,
   "id": "7ce75e67",
   "metadata": {},
   "outputs": [],
   "source": [
    "def function_transformer(dataframe):\n",
    "   # Funzione per calcolare i moltiplicatori di tipo\n",
    "   def get_dual_multiplier(df, atk_col, def1_col, def2_col, newcol):\n",
    "      tmp = df_type_chart.rename(columns={\n",
    "         'attack': atk_col,\n",
    "         'defense1': def1_col,\n",
    "         'defense2': def2_col\n",
    "      })\n",
    "      df = df.merge(\n",
    "         tmp[[atk_col, def1_col, def2_col, 'multiplier']],\n",
    "         on=[atk_col, def1_col, def2_col],\n",
    "         how='left'\n",
    "      ).rename(columns={'multiplier': newcol})\n",
    "      df[newcol] = df[newcol].fillna(1.0)\n",
    "      return df\n",
    "   # Aggiunta dei moltiplicatori di tipo\n",
    "   dataframe: pd.DataFrame = dataframe.copy()\n",
    "   dataframe: pd.DataFrame = get_dual_multiplier(dataframe, 'Type 1_F', 'Type 1_S', 'Type 2_S', 'F1_to_S')\n",
    "   dataframe: pd.DataFrame = get_dual_multiplier(dataframe, 'Type 2_F', 'Type 1_S', 'Type 2_S', 'F2_to_S')\n",
    "   dataframe: pd.DataFrame = get_dual_multiplier(dataframe, 'Type 1_S', 'Type 1_F', 'Type 2_F', 'S1_to_F')\n",
    "   dataframe: pd.DataFrame = get_dual_multiplier(dataframe, 'Type 2_S', 'Type 1_F', 'Type 2_F', 'S2_to_F')\n",
    "   # Rimozione delle colonne di tipo originali\n",
    "   dataframe.drop(columns=['Type 1_F', 'Type 2_F', 'Type 1_S', 'Type 2_S'], inplace=True)\n",
    "   # Rimpiazzo delle statistiche con la differenza delle statistiche tra i due pokemon\n",
    "   stats: list[str] = ['HP', 'Attack', 'Defense', 'Sp. Atk', 'Sp. Def', 'Speed']\n",
    "   for stat in stats:\n",
    "      dataframe[f\"delta_{stat}\"] = dataframe[f'{stat}_F'] - dataframe[f'{stat}_S']\n",
    "      dataframe.drop(columns=[f'{stat}_F', f'{stat}_S'], inplace=True)\n",
    "   # Rimozione delle colonne non necessarie\n",
    "   return dataframe.drop(columns=['Name_F', 'Name_S', 'Generation_F', 'Generation_S'])\n",
    "\n",
    "data_transformer: FunctionTransformer = FunctionTransformer(func=function_transformer).set_output(transform=\"pandas\")"
   ]
  },
  {
   "cell_type": "code",
   "execution_count": 6,
   "id": "94cd90e8",
   "metadata": {},
   "outputs": [
    {
     "name": "stdout",
     "output_type": "stream",
     "text": [
      " * Serving Flask app '__main__'\n",
      " * Debug mode: off\n"
     ]
    },
    {
     "name": "stderr",
     "output_type": "stream",
     "text": [
      "WARNING: This is a development server. Do not use it in a production deployment. Use a production WSGI server instead.\n",
      " * Running on http://127.0.0.1:5000\n",
      "Press CTRL+C to quit\n",
      "127.0.0.1 - - [02/Jun/2025 16:00:19] \"GET / HTTP/1.1\" 200 -\n",
      "127.0.0.1 - - [02/Jun/2025 16:00:25] \"POST / HTTP/1.1\" 200 -\n",
      "127.0.0.1 - - [02/Jun/2025 16:00:28] \"POST / HTTP/1.1\" 200 -\n",
      "127.0.0.1 - - [02/Jun/2025 16:00:31] \"POST / HTTP/1.1\" 200 -\n",
      "127.0.0.1 - - [02/Jun/2025 16:00:33] \"POST / HTTP/1.1\" 200 -\n",
      "127.0.0.1 - - [02/Jun/2025 16:00:33] \"POST / HTTP/1.1\" 200 -\n",
      "127.0.0.1 - - [02/Jun/2025 16:00:33] \"POST / HTTP/1.1\" 200 -\n",
      "127.0.0.1 - - [02/Jun/2025 16:00:38] \"POST / HTTP/1.1\" 200 -\n",
      "127.0.0.1 - - [02/Jun/2025 16:00:46] \"POST / HTTP/1.1\" 200 -\n",
      "127.0.0.1 - - [02/Jun/2025 16:00:59] \"POST / HTTP/1.1\" 200 -\n",
      "127.0.0.1 - - [02/Jun/2025 16:02:46] \"POST / HTTP/1.1\" 200 -\n",
      "127.0.0.1 - - [02/Jun/2025 16:02:48] \"POST / HTTP/1.1\" 200 -\n",
      "127.0.0.1 - - [02/Jun/2025 16:02:51] \"POST / HTTP/1.1\" 200 -\n",
      "127.0.0.1 - - [02/Jun/2025 16:02:54] \"POST / HTTP/1.1\" 200 -\n",
      "127.0.0.1 - - [02/Jun/2025 16:02:55] \"POST / HTTP/1.1\" 200 -\n"
     ]
    }
   ],
   "source": [
    "app: Flask = Flask(__name__, template_folder='webpage')\n",
    "\n",
    "models = os.listdir(MODEL_DIR)\n",
    "model = joblib.load(os.path.join(MODEL_DIR, models[0]))\n",
    "\n",
    "@app.route('/', methods=['GET', 'POST'])\n",
    "def one_v_one_battle():\n",
    "    pokemon_first: str | None = None\n",
    "    pokemon_second: str | None = None\n",
    "    winner: str | None = None\n",
    "    confidence: float | None = None\n",
    "    if request.method == 'POST':\n",
    "        if request.form.get('change_model'):\n",
    "            model_filename: str = request.form.get('model_file')\n",
    "            if model_filename in models:\n",
    "                global model\n",
    "                model = joblib.load(os.path.join(MODEL_DIR, model_filename))\n",
    "        if request.form.get('predict_fight'):\n",
    "            pokemon_first = request.form.get('pokemon_first')\n",
    "            pokemon_second = request.form.get('pokemon_second')\n",
    "            first_data = df_pokemon.loc[df_pokemon['Name'] == pokemon_first].add_suffix(suffix='_F')\n",
    "            second_data = df_pokemon.loc[df_pokemon['Name'] == pokemon_second].add_suffix(suffix='_S')\n",
    "            winner_id = model.predict(first_data.merge(second_data, how='cross'))\n",
    "            winner = pokemon_first if winner_id == 0 else pokemon_second\n",
    "            confidence = np.max(model.predict_proba(first_data.merge(second_data, how='cross')), axis=1)[0]* 100\n",
    "    return render_template('1v1_battle.html', models=models, selected_pokemons=[pokemon_first, pokemon_second], pokemon_choices=df_pokemon['Name'], winner=winner, confidence=confidence)\n",
    "\n",
    "app.run()"
   ]
  }
 ],
 "metadata": {
  "kernelspec": {
   "display_name": "venv",
   "language": "python",
   "name": "python3"
  },
  "language_info": {
   "codemirror_mode": {
    "name": "ipython",
    "version": 3
   },
   "file_extension": ".py",
   "mimetype": "text/x-python",
   "name": "python",
   "nbconvert_exporter": "python",
   "pygments_lexer": "ipython3",
   "version": "3.12.9"
  }
 },
 "nbformat": 4,
 "nbformat_minor": 5
}
