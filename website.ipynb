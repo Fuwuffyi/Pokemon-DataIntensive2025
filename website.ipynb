{
 "cells": [
  {
   "cell_type": "code",
   "execution_count": 1,
   "id": "2b5a6a52",
   "metadata": {},
   "outputs": [],
   "source": [
    "# Librerie base\n",
    "import pandas as pd\n",
    "import numpy as np\n",
    "\n",
    "# Machine Learning\n",
    "import joblib\n",
    "from sklearn.preprocessing import FunctionTransformer\n",
    "\n",
    "# Management di file\n",
    "import os\n",
    "\n",
    "# Flask\n",
    "from flask import Flask, request, jsonify, render_template"
   ]
  },
  {
   "cell_type": "code",
   "execution_count": 2,
   "id": "9d737b49",
   "metadata": {},
   "outputs": [],
   "source": [
    "# Definizione dei percorsi e dei parametri globali\n",
    "DATASET_BASE_PATH: str = './datasets'\n",
    "COMBATS_PATH: str = f\"{DATASET_BASE_PATH}/combats.csv\"\n",
    "TYPE_CHART_PATH: str = f\"{DATASET_BASE_PATH}/type_chart.csv\"\n",
    "POKEMON_PATH: str = f\"{DATASET_BASE_PATH}/pokemon.csv\"\n",
    "MODEL_DIR: str = './models'"
   ]
  },
  {
   "cell_type": "code",
   "execution_count": 3,
   "id": "f22cc6a5",
   "metadata": {},
   "outputs": [],
   "source": [
    "def load_pokemon_data(combats_path: str, pokemon_path: str) -> pd.DataFrame:\n",
    "   df_combats = pd.read_csv(combats_path)\n",
    "   df_pokemon = pd.read_csv(pokemon_path, index_col=\"#\").fillna(\"None\")\n",
    "   # Prerprocessing del campo winner per avere 0 se vince il primo Pokemon e 1 se vince il_So\n",
    "   df_combats[\"Winner\"] = (df_combats[\"Winner\"] != df_combats[\"First_pokemon\"]).astype(int)\n",
    "   # Merge first and second Pokémon stats\n",
    "   return df_combats.merge(\n",
    "      df_pokemon.add_suffix(\"_F\"), how=\"left\",\n",
    "      left_on=\"First_pokemon\", right_index=True\n",
    "   ).merge(\n",
    "      df_pokemon.add_suffix(\"_S\"), how=\"left\",\n",
    "      left_on=\"Second_pokemon\", right_index=True\n",
    "   ).drop(\n",
    "      columns=[\"First_pokemon\", \"Second_pokemon\"]\n",
    "   )"
   ]
  },
  {
   "cell_type": "code",
   "execution_count": 4,
   "id": "2163213e",
   "metadata": {},
   "outputs": [],
   "source": [
    "# Caricamento dei DataFrame\n",
    "df_type_chart = pd.read_csv(TYPE_CHART_PATH).fillna(\"None\")\n",
    "df_pokemon = pd.read_csv(POKEMON_PATH, index_col=\"#\").fillna(\"None\")\n",
    "df_combats: pd.DataFrame = load_pokemon_data(COMBATS_PATH, POKEMON_PATH)"
   ]
  },
  {
   "cell_type": "code",
   "execution_count": 5,
   "id": "7ce75e67",
   "metadata": {},
   "outputs": [],
   "source": [
    "from utils import function_transformer\n",
    "data_transformer: FunctionTransformer = FunctionTransformer(func=function_transformer, kw_args={'dataframe_type_chart': df_type_chart}).set_output(transform=\"pandas\")"
   ]
  },
  {
   "cell_type": "code",
   "execution_count": null,
   "id": "94cd90e8",
   "metadata": {},
   "outputs": [
    {
     "name": "stdout",
     "output_type": "stream",
     "text": [
      " * Serving Flask app '__main__'\n",
      " * Debug mode: off\n"
     ]
    },
    {
     "name": "stderr",
     "output_type": "stream",
     "text": [
      "WARNING: This is a development server. Do not use it in a production deployment. Use a production WSGI server instead.\n",
      " * Running on http://127.0.0.1:5000\n",
      "Press CTRL+C to quit\n",
      "127.0.0.1 - - [03/Jun/2025 10:17:40] \"GET / HTTP/1.1\" 200 -\n",
      "127.0.0.1 - - [03/Jun/2025 10:17:41] \"POST /precdict_battle HTTP/1.1\" 200 -\n",
      "127.0.0.1 - - [03/Jun/2025 10:17:42] \"POST /precdict_battle HTTP/1.1\" 200 -\n",
      "127.0.0.1 - - [03/Jun/2025 10:17:43] \"POST /change_model HTTP/1.1\" 200 -\n",
      "127.0.0.1 - - [03/Jun/2025 10:17:43] \"POST /precdict_battle HTTP/1.1\" 200 -\n",
      "127.0.0.1 - - [03/Jun/2025 10:17:45] \"POST /precdict_battle HTTP/1.1\" 200 -\n",
      "127.0.0.1 - - [03/Jun/2025 10:17:46] \"POST /change_model HTTP/1.1\" 200 -\n",
      "127.0.0.1 - - [03/Jun/2025 10:17:46] \"POST /precdict_battle HTTP/1.1\" 200 -\n",
      "127.0.0.1 - - [03/Jun/2025 10:17:47] \"POST /precdict_battle HTTP/1.1\" 200 -\n",
      "127.0.0.1 - - [03/Jun/2025 10:17:48] \"POST /change_model HTTP/1.1\" 200 -\n",
      "127.0.0.1 - - [03/Jun/2025 10:17:49] \"POST /precdict_battle HTTP/1.1\" 200 -\n",
      "127.0.0.1 - - [03/Jun/2025 10:17:50] \"POST /precdict_battle HTTP/1.1\" 200 -\n",
      "127.0.0.1 - - [03/Jun/2025 10:17:51] \"POST /change_model HTTP/1.1\" 200 -\n",
      "127.0.0.1 - - [03/Jun/2025 10:17:51] \"POST /precdict_battle HTTP/1.1\" 200 -\n",
      "127.0.0.1 - - [03/Jun/2025 10:17:52] \"POST /precdict_battle HTTP/1.1\" 200 -\n",
      "127.0.0.1 - - [03/Jun/2025 10:17:53] \"POST /change_model HTTP/1.1\" 200 -\n",
      "127.0.0.1 - - [03/Jun/2025 10:17:54] \"POST /precdict_battle HTTP/1.1\" 200 -\n",
      "127.0.0.1 - - [03/Jun/2025 10:17:55] \"POST /precdict_battle HTTP/1.1\" 200 -\n",
      "127.0.0.1 - - [03/Jun/2025 10:17:56] \"POST /precdict_battle HTTP/1.1\" 200 -\n",
      "127.0.0.1 - - [03/Jun/2025 10:17:57] \"POST /precdict_battle HTTP/1.1\" 200 -\n",
      "127.0.0.1 - - [03/Jun/2025 10:17:58] \"POST /precdict_battle HTTP/1.1\" 200 -\n",
      "127.0.0.1 - - [03/Jun/2025 10:17:59] \"POST /precdict_battle HTTP/1.1\" 200 -\n"
     ]
    }
   ],
   "source": [
    "app: Flask = Flask(__name__, template_folder='webpage')\n",
    "\n",
    "models = os.listdir(MODEL_DIR)\n",
    "model = joblib.load(os.path.join(MODEL_DIR, models[0]))\n",
    "\n",
    "@app.route('/', methods=['GET'])\n",
    "def one_v_one_battle():\n",
    "    return render_template('1v1_battle.html', models=models, pokemon_choices=df_pokemon['Name'])\n",
    "\n",
    "@app.route('/change_model', methods=['POST'])\n",
    "def change_model():\n",
    "    data = request.get_json()\n",
    "    if not data:\n",
    "        return jsonify({\"error\": \"Invalid JSON.\"}), 400\n",
    "    model_filename: str = data.get('model_file')\n",
    "    if not model_filename or model_filename not in models:\n",
    "        return jsonify({\"error\": \"Model file not found.\"}), 404\n",
    "    global model\n",
    "    model = joblib.load(os.path.join(MODEL_DIR, model_filename))\n",
    "    return jsonify({\"message\": f\"Model changed to {model_filename}.\"}), 200\n",
    "\n",
    "@app.route('/precdict_battle', methods=['POST'])\n",
    "def predict_battle():\n",
    "    data = request.get_json()\n",
    "    if not data:\n",
    "        return jsonify({\"error\": \"Invalid JSON.\"}), 400\n",
    "    p1: str = data.get(\"pokemon_first\")\n",
    "    p2: str = data.get(\"pokemon_second\")\n",
    "    if not p1 or not p2:\n",
    "        return jsonify({\"error\": \"Both Pokémon must be specified.\"}), 400\n",
    "    first_data = df_pokemon.loc[df_pokemon['Name'] == p1].add_suffix(suffix='_F')\n",
    "    second_data = df_pokemon.loc[df_pokemon['Name'] == p2].add_suffix(suffix='_S')\n",
    "    winner_id = model.predict(first_data.merge(second_data, how='cross'))\n",
    "    winner = p1 if winner_id == 0 else p2\n",
    "    confidence = np.max(model.predict_proba(first_data.merge(second_data, how='cross')), axis=1)[0] * 100\n",
    "    return jsonify({\n",
    "        \"winner\": winner,\n",
    "        \"confidence\": float(confidence)\n",
    "    })\n",
    "\n",
    "app.run()"
   ]
  }
 ],
 "metadata": {
  "kernelspec": {
   "display_name": "venv",
   "language": "python",
   "name": "python3"
  },
  "language_info": {
   "codemirror_mode": {
    "name": "ipython",
    "version": 3
   },
   "file_extension": ".py",
   "mimetype": "text/x-python",
   "name": "python",
   "nbconvert_exporter": "python",
   "pygments_lexer": "ipython3",
   "version": "3.12.9"
  }
 },
 "nbformat": 4,
 "nbformat_minor": 5
}
