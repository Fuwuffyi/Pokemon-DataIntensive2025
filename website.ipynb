{
 "cells": [
  {
   "cell_type": "markdown",
   "id": "56b6165c",
   "metadata": {},
   "source": [
    "# Pagina Web\n",
    "Questo é il file notebook della pagina web."
   ]
  },
  {
   "cell_type": "markdown",
   "id": "0e387e0a",
   "metadata": {},
   "source": [
    "### Download degli srpite\n",
    "Completamente opzionale, ma rende la pagina web piú carina."
   ]
  },
  {
   "cell_type": "code",
   "execution_count": 1,
   "id": "90136441",
   "metadata": {},
   "outputs": [
    {
     "name": "stdout",
     "output_type": "stream",
     "text": [
      "Starting sprite download...\n",
      "Not found (404): https://play.pokemonshowdown.com/sprites/ani/wormadam-sandy-cloak.gif\n",
      "Not found (404): https://play.pokemonshowdown.com/sprites/ani/primal-kyogre.gif\n",
      "Not found (404): https://play.pokemonshowdown.com/sprites/ani-back/primal-kyogre.gif\n",
      "Not found (404): https://play.pokemonshowdown.com/sprites/ani-back/primal-groudon.gif\n",
      "Not found (404): https://play.pokemonshowdown.com/sprites/ani-back/wormadam-trash-cloak.gif\n",
      "Not found (404): https://play.pokemonshowdown.com/sprites/ani-back/mr-mime.gif\n",
      "Not found (404): https://play.pokemonshowdown.com/sprites/ani/wormadam-trash-cloak.gif\n",
      "Not found (404): https://play.pokemonshowdown.com/sprites/ani/shaymin-land.gif\n",
      "Not found (404): https://play.pokemonshowdown.com/sprites/ani/mime-jr.gif\n",
      "Not found (404): https://play.pokemonshowdown.com/sprites/ani-back/wormadam-sandy-cloak.gif\n",
      "Not found (404): https://play.pokemonshowdown.com/sprites/ani-back/shaymin-land.gif\n",
      "Not found (404): https://play.pokemonshowdown.com/sprites/ani/wormadam-plant-cloak.gif\n",
      "Not found (404): https://play.pokemonshowdown.com/sprites/ani-back/giratina-altered.gif\n",
      "Not found (404): https://play.pokemonshowdown.com/sprites/ani-back/darmanitan-standard-mode.gif\n",
      "Not found (404): https://play.pokemonshowdown.com/sprites/ani-back/mime-jr.gif\n",
      "Not found (404): https://play.pokemonshowdown.com/sprites/ani/primal-groudon.gif\n",
      "Not found (404): https://play.pokemonshowdown.com/sprites/ani-back/wormadam-plant-cloak.gif\n",
      "Not found (404): https://play.pokemonshowdown.com/sprites/ani/darmanitan-standard-mode.gif\n",
      "Not found (404): https://play.pokemonshowdown.com/sprites/ani/giratina-altered.gif\n",
      "Not found (404): https://play.pokemonshowdown.com/sprites/ani/deoxysattack.gif\n",
      "Not found (404): https://play.pokemonshowdown.com/sprites/ani-back/darmanitan-zen-mode.gif\n",
      "Not found (404): https://play.pokemonshowdown.com/sprites/ani-back/thundurus-incarnate.gif\n",
      "Not found (404): https://play.pokemonshowdown.com/sprites/ani-back/tornadus-incarnate.gif\n",
      "Not found (404): https://play.pokemonshowdown.com/sprites/ani/tornadus-incarnate.gif\n",
      "Not found (404): https://play.pokemonshowdown.com/sprites/ani/thundurus-incarnate.gif\n",
      "Not found (404): https://play.pokemonshowdown.com/sprites/ani/darmanitan-zen-mode.gif\n",
      "Not found (404): https://play.pokemonshowdown.com/sprites/ani-back/keldeo-ordinary.gif\n",
      "Not found (404): https://play.pokemonshowdown.com/sprites/ani/keldeo-ordinary.gif\n",
      "Not found (404): https://play.pokemonshowdown.com/sprites/ani/landorus-incarnate.gif\n",
      "Not found (404): https://play.pokemonshowdown.com/sprites/ani-back/landorus-incarnate.gif\n",
      "Not found (404): https://play.pokemonshowdown.com/sprites/ani-back/aegislash-shield.gif\n",
      "Not found (404): https://play.pokemonshowdown.com/sprites/ani/zygarde-half.gif\n",
      "Not found (404): https://play.pokemonshowdown.com/sprites/ani-back/zygarde-half.gif\n",
      "Not found (404): https://play.pokemonshowdown.com/sprites/ani-back/hoopa-confined.gif\n",
      "Not found (404): https://play.pokemonshowdown.com/sprites/ani/mr-mime.gif\n",
      "Not found (404): https://play.pokemonshowdown.com/sprites/ani-back/deoxysattack.gif\n",
      "Not found (404): https://play.pokemonshowdown.com/sprites/ani/meloetta-aria.gif\n",
      "Not found (404): https://play.pokemonshowdown.com/sprites/ani-back/meloetta-aria.gif\n",
      "Not found (404): https://play.pokemonshowdown.com/sprites/ani/hoopa-confined.gif\n",
      "Not found (404): https://play.pokemonshowdown.com/sprites/ani/aegislash-shield.gif\n"
     ]
    }
   ],
   "source": [
    "# Opzionale: scarica le sprite dei Pokémon per il gioco\n",
    "!python ./scripts/sprite_downloader.py"
   ]
  },
  {
   "cell_type": "markdown",
   "id": "04e45c31",
   "metadata": {},
   "source": [
    "## Import delle librerie"
   ]
  },
  {
   "cell_type": "code",
   "execution_count": 2,
   "id": "2b5a6a52",
   "metadata": {},
   "outputs": [],
   "source": [
    "# Librerie base\n",
    "import pandas as pd\n",
    "import numpy as np\n",
    "\n",
    "# Visualizzazione\n",
    "import matplotlib\n",
    "from matplotlib.colors import to_rgb\n",
    "import matplotlib.font_manager as fm\n",
    "import matplotlib.pyplot as plt\n",
    "\n",
    "# Machine Learning\n",
    "import joblib\n",
    "from sklearn.preprocessing import FunctionTransformer\n",
    "\n",
    "# Management di file\n",
    "import os\n",
    "import io\n",
    "\n",
    "# Flask\n",
    "from flask import Flask, send_file, abort, request, jsonify, render_template"
   ]
  },
  {
   "cell_type": "markdown",
   "id": "a9ebce5b",
   "metadata": {},
   "source": [
    "## Configurazione di base"
   ]
  },
  {
   "cell_type": "code",
   "execution_count": 3,
   "id": "90c0fe83",
   "metadata": {},
   "outputs": [],
   "source": [
    "# Configurazione di matplotlib\n",
    "matplotlib.use('Agg')\n",
    "FONT_PATH: str = os.path.join(os.path.dirname('./'), 'webpage', 'static', 'font', 'PokeClassic.ttf')\n",
    "font_properties: fm.FontProperties = fm.FontProperties(fname=FONT_PATH)"
   ]
  },
  {
   "cell_type": "code",
   "execution_count": 4,
   "id": "9d737b49",
   "metadata": {},
   "outputs": [],
   "source": [
    "# Definizione dei percorsi e dei parametri globali\n",
    "DATASET_BASE_PATH: str = './datasets'\n",
    "COMBATS_PATH: str = f\"{DATASET_BASE_PATH}/combats.csv\"\n",
    "TYPE_CHART_PATH: str = f\"{DATASET_BASE_PATH}/type_chart.csv\"\n",
    "POKEMON_PATH: str = f\"{DATASET_BASE_PATH}/pokemon.csv\"\n",
    "MODEL_DIR: str = './models'"
   ]
  },
  {
   "cell_type": "markdown",
   "id": "85a4aaf2",
   "metadata": {},
   "source": [
    "## Caricamento dei dati\n",
    "Vengono caricati esattamente gli stessi dati del notebook di training, ma, in questo caso, non vengono caricati i dati riguardo ai combattimenti."
   ]
  },
  {
   "cell_type": "code",
   "execution_count": 5,
   "id": "2163213e",
   "metadata": {},
   "outputs": [],
   "source": [
    "# Caricamento dei DataFrame\n",
    "df_type_chart = pd.read_csv(TYPE_CHART_PATH).fillna(\"None\")\n",
    "df_pokemon = pd.read_csv(POKEMON_PATH, index_col=\"#\").fillna(\"None\")"
   ]
  },
  {
   "cell_type": "markdown",
   "id": "783680d5",
   "metadata": {},
   "source": [
    "Questa funzione purtroppo serve in quanto la libreria utilizzata per salvare i modelli non serializza i FunctionTransformer."
   ]
  },
  {
   "cell_type": "code",
   "execution_count": 6,
   "id": "7ce75e67",
   "metadata": {},
   "outputs": [],
   "source": [
    "# Caricamento del trasformatore di funzioni\n",
    "from utils import function_transformer\n",
    "data_transformer: FunctionTransformer = FunctionTransformer(func=function_transformer, kw_args={'dataframe_type_chart': df_type_chart}).set_output(transform=\"pandas\")"
   ]
  },
  {
   "cell_type": "markdown",
   "id": "80aaebf8",
   "metadata": {},
   "source": [
    "## Funzioni di utility\n",
    "Queste funzioni servono per i vari API della pagina web.\n",
    "\n",
    "Principalmente vengono definite funzioni per creare dei grafici in real time riguardo alle statistiche dei pokemon."
   ]
  },
  {
   "cell_type": "code",
   "execution_count": 7,
   "id": "f214dadd",
   "metadata": {},
   "outputs": [],
   "source": [
    "# Definizione dei colori per i tipi di Pokémon\n",
    "type_colors: dict[str, str] = {\n",
    "   \"Normal\": \"#A8A878\",\n",
    "   \"Fire\": \"#F08030\",\n",
    "   \"Water\": \"#6890F0\",\n",
    "   \"Grass\": \"#78C850\",\n",
    "   \"Electric\": \"#F8D030\",\n",
    "   \"Ice\": \"#98D8D8\",\n",
    "   \"Fighting\": \"#C03028\",\n",
    "   \"Poison\": \"#A040A0\",\n",
    "   \"Ground\": \"#E0C068\",\n",
    "   \"Flying\": \"#A890F0\",\n",
    "   \"Psychic\": \"#F85888\",\n",
    "   \"Bug\": \"#A8B820\",\n",
    "   \"Rock\": \"#B8A038\",\n",
    "   \"Ghost\": \"#705898\",\n",
    "   \"Dragon\": \"#7038F8\",\n",
    "   \"Dark\": \"#705848\",\n",
    "   \"Steel\": \"#B8B8D0\",\n",
    "   \"Fairy\": \"#EE99AC\"\n",
    "}"
   ]
  },
  {
   "cell_type": "code",
   "execution_count": 8,
   "id": "8dbad9dd",
   "metadata": {},
   "outputs": [],
   "source": [
    "# Funzione per interpolare i colori tra due valori\n",
    "def interpolate_color(c1, c2, t):\n",
    "   c1 = np.array(to_rgb(c1))\n",
    "   c2 = np.array(to_rgb(c2))\n",
    "   return c1 * (1 - t) + c2 * t"
   ]
  },
  {
   "cell_type": "code",
   "execution_count": 9,
   "id": "c3c1250e",
   "metadata": {},
   "outputs": [],
   "source": [
    "# Funzione per creare un grafico radar per le statistiche di un Pokémon\n",
    "def generate_pokemon_radial_graph(name):\n",
    "   # Otteniamo le statistiche del Pokémon\n",
    "   stats: pd.DataFrame = df_pokemon[df_pokemon[\"Name\"] == name].iloc[0].to_dict()\n",
    "   # Otteniamo il tipo del Pokémon per colorare il grafico\n",
    "   type_first: str = stats['Type 1']\n",
    "   type_second: str = stats['Type 2']\n",
    "   if type_second == 'None' or type_second == '' or type_second is None:\n",
    "      type_second: str = type_first\n",
    "   color_center: str = type_colors[type_first]\n",
    "   color_edge: str = type_colors[type_second]\n",
    "   # Creazione delle etichette e dei valori per il grafico\n",
    "   labels: list[str] = ['HP', 'Attack', 'Defense', 'Sp. Atk', 'Sp. Def', 'Speed']\n",
    "   values: list[float] = [stats[label] for label in labels]\n",
    "   # Aggiungiamo il primo valore alla fine per chiudere il grafico\n",
    "   angles: np.array = np.linspace(0, 2 * np.pi, len(labels), endpoint=False).tolist()\n",
    "   values += values[:1]\n",
    "   angles += angles[:1]\n",
    "   # Creazione del grafico radar\n",
    "   fig, ax = plt.subplots(figsize=(6, 6), subplot_kw=dict(polar=True), facecolor='none')\n",
    "   ax.set_facecolor('none')\n",
    "   # Normalizza i valori delle statistiche\n",
    "   max_stat: float = max(values)\n",
    "   norm_values: np.array = np.array(values) / max_stat\n",
    "   # Traccia le aree del grafico con un gradiente\n",
    "   steps: int = 50\n",
    "   for i in range(steps):\n",
    "      t_inner: float = i / (steps - 1)\n",
    "      t_outer: float = (i + 1) / (steps - 1)\n",
    "      inner_values: np.array = norm_values * t_inner * max_stat\n",
    "      outer_values: np.array = norm_values * t_outer * max_stat\n",
    "      ring_angles: np.array = angles[:-1] + angles[::-1][:-1]\n",
    "      ring_radii: np.array = np.concatenate([outer_values[:-1], inner_values[::-1][:-1]])\n",
    "      ring_color: np.array = interpolate_color(color_center, color_edge, (t_inner + t_outer) / 2)\n",
    "      ax.fill(ring_angles, ring_radii, color=ring_color, alpha=0.15, zorder=steps - i)\n",
    "   # Traccia il bordo del grafico\n",
    "   ax.plot(angles, values, color=color_edge, linewidth=2, zorder=steps + 1)\n",
    "   # Impostazione delle etichette degli assi\n",
    "   ax.set_xticks(angles[:-1])\n",
    "   ax.set_xticklabels(labels, color='white')\n",
    "   # Impostazione del colore e della dimensione dei tick\n",
    "   for tick_label in ax.get_xticklabels():\n",
    "      tick_label.set_fontproperties(font_properties)\n",
    "      tick_label.set_color('white')\n",
    "      tick_label.set_fontsize(11)\n",
    "   # Titolo\n",
    "   title_text = ax.set_title(f\"{name}\", va='bottom', color=color_center)\n",
    "   title_text.set_fontproperties(font_properties)\n",
    "   title_text.set_fontsize(17)\n",
    "   # Setup assi radiali\n",
    "   ax.set_rlabel_position(-90)\n",
    "   ax.set_ylim(0, max_stat + 10)\n",
    "   ax.grid(color='white', linestyle='--', linewidth=0.8, alpha=0.5)\n",
    "   ax.spines['polar'].set_color('white')\n",
    "   ax.grid(True)\n",
    "   # Stile per le etichette radiali\n",
    "   for label in ax.get_yticklabels():\n",
    "      label.set_fontproperties(font_properties)\n",
    "      label.set_color('white')\n",
    "      label.set_fontsize(7)\n",
    "   # Salvataggio del grafico in un buffer di memoria\n",
    "   buf = io.BytesIO()\n",
    "   fig.savefig(buf, format='png', transparent=True, bbox_inches='tight')\n",
    "   plt.close(fig)\n",
    "   buf.seek(0)\n",
    "   return buf.getvalue()\n"
   ]
  },
  {
   "cell_type": "markdown",
   "id": "e6b70687",
   "metadata": {},
   "source": [
    "## Pagina web"
   ]
  },
  {
   "cell_type": "markdown",
   "id": "e5ae5f9f",
   "metadata": {},
   "source": [
    "Questa pagina web ha diversi endpoint per rendere l'interazione con il sito piú veloce ed interattiva.\n",
    "- `/`: (la pagina indice) é la pagina principale del sito. Permette di predire il vincitore di una battaglia pokemon, selezionandone un modello, e di vedere I dati e statistiche a loro associati.\n",
    "\n",
    "API:\n",
    "- `/change_model`: Permette all'utente di cambiare il modello caricato dal server.\n",
    "- `/predict_battle`: Effettua la predizione di una battaglia 1v1 in base al modello attualmente caricato.\n",
    "- `/pokemon/<name>/radial_stats.png`: Genera un grafico di matplotlib contenente le statistiche di un pokemon sotto forma di grafico radiale."
   ]
  },
  {
   "cell_type": "code",
   "execution_count": 28,
   "id": "b5653692",
   "metadata": {},
   "outputs": [],
   "source": [
    "app: Flask = Flask(__name__, template_folder='webpage', static_folder=\"webpage/static\")\n",
    "\n",
    "models = os.listdir(MODEL_DIR)\n",
    "model = joblib.load(os.path.join(MODEL_DIR, models[0]))"
   ]
  },
  {
   "cell_type": "code",
   "execution_count": 29,
   "id": "9286198f",
   "metadata": {},
   "outputs": [],
   "source": [
    "@app.route('/', methods=['GET'])\n",
    "def one_v_one_battle():\n",
    "   return render_template('1v1_battle.html', models=models, pokemon_choices=df_pokemon[['Name', 'Type 1', 'Type 2']].to_dict(orient='records'))"
   ]
  },
  {
   "cell_type": "code",
   "execution_count": 30,
   "id": "d12b8eba",
   "metadata": {},
   "outputs": [],
   "source": [
    "@app.route('/change_model', methods=['POST'])\n",
    "def change_model():\n",
    "   # Controlla se il corpo della richiesta è in formato JSON\n",
    "   data = request.get_json()\n",
    "   if not data:\n",
    "      return jsonify({\"error\": \"Invalid JSON.\"}), 400\n",
    "   # Controlla se il modello specificato esiste\n",
    "   model_filename: str = data.get('model_file')\n",
    "   if not model_filename or model_filename not in models:\n",
    "      return jsonify({\"error\": \"Model file not found.\"}), 404\n",
    "   # Cambia il modello di machine learning in uso\n",
    "   global model\n",
    "   model = joblib.load(os.path.join(MODEL_DIR, model_filename))\n",
    "   return jsonify({\"message\": f\"Model changed to {model_filename}.\"}), 200"
   ]
  },
  {
   "cell_type": "code",
   "execution_count": 31,
   "id": "6b52ad71",
   "metadata": {},
   "outputs": [],
   "source": [
    "@app.route('/pokemon/<name>/radial_stats.png', methods=['GET'])\n",
    "def pokemon_radial(name):\n",
    "   if name not in df_pokemon[\"Name\"].values:\n",
    "      abort(404, description=f\"Pokémon '{name}' non trovato\")\n",
    "   img_bytes = generate_pokemon_radial_graph(name)\n",
    "   return send_file(\n",
    "      io.BytesIO(img_bytes),\n",
    "      mimetype=\"image/png\",\n",
    "      as_attachment=False,\n",
    "      download_name=f\"{name}_radial_stats.png\"\n",
    "   )"
   ]
  },
  {
   "cell_type": "code",
   "execution_count": 32,
   "id": "94cd90e8",
   "metadata": {},
   "outputs": [],
   "source": [
    "@app.route('/precdict_battle', methods=['POST'])\n",
    "def predict_battle():\n",
    "    # Controlla se il corpo della richiesta è in formato JSON\n",
    "    data = request.get_json()\n",
    "    if not data:\n",
    "        return jsonify({\"error\": \"Invalid JSON.\"}), 400\n",
    "    # Controlla se i Pokémon sono specificati\n",
    "    p1: str = data.get(\"pokemon_first\")\n",
    "    p2: str = data.get(\"pokemon_second\")\n",
    "    if not p1 or not p2:\n",
    "        return jsonify({\"error\": \"Both Pokémon must be specified.\"}), 400\n",
    "    # Prepara i dati per la previsione\n",
    "    first_data: pd.DataFrame = df_pokemon.loc[df_pokemon['Name'] == p1].add_suffix(suffix='_F')\n",
    "    second_data: pd.DataFrame = df_pokemon.loc[df_pokemon['Name'] == p2].add_suffix(suffix='_S')\n",
    "    # Predizione del vincitore\n",
    "    winner_id: int = model.predict(first_data.merge(second_data, how='cross'))\n",
    "    winner: str = p1 if winner_id == 0 else p2\n",
    "    if p1 == p2:\n",
    "        winner += \" Left\" if winner_id == 0 else \" Right\"\n",
    "    confidence = np.max(model.predict_proba(first_data.merge(second_data, how='cross')), axis=1)[0] * 100\n",
    "    return jsonify({\n",
    "        \"winner\": winner,\n",
    "        \"confidence\": float(confidence)\n",
    "    })"
   ]
  },
  {
   "cell_type": "code",
   "execution_count": 34,
   "id": "bf8e715a",
   "metadata": {},
   "outputs": [
    {
     "name": "stdout",
     "output_type": "stream",
     "text": [
      " * Serving Flask app '__main__'\n",
      " * Debug mode: off\n"
     ]
    },
    {
     "name": "stderr",
     "output_type": "stream",
     "text": [
      "WARNING: This is a development server. Do not use it in a production deployment. Use a production WSGI server instead.\n",
      " * Running on http://127.0.0.1:5000\n",
      "Press CTRL+C to quit\n"
     ]
    }
   ],
   "source": [
    "app.run()"
   ]
  }
 ],
 "metadata": {
  "kernelspec": {
   "display_name": "venv",
   "language": "python",
   "name": "python3"
  },
  "language_info": {
   "codemirror_mode": {
    "name": "ipython",
    "version": 3
   },
   "file_extension": ".py",
   "mimetype": "text/x-python",
   "name": "python",
   "nbconvert_exporter": "python",
   "pygments_lexer": "ipython3",
   "version": "3.12.9"
  }
 },
 "nbformat": 4,
 "nbformat_minor": 5
}
