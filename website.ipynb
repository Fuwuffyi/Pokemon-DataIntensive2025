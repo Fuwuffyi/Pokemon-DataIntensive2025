{
 "cells": [
  {
   "cell_type": "code",
   "execution_count": 17,
   "id": "2b5a6a52",
   "metadata": {},
   "outputs": [],
   "source": [
    "from flask import Flask, render_template, request\n",
    "import pandas as pd"
   ]
  },
  {
   "cell_type": "code",
   "execution_count": 18,
   "id": "9d737b49",
   "metadata": {},
   "outputs": [],
   "source": [
    "# Otteniamo tutti i pokemon\n",
    "dataset_base_path: str = './datasets/'\n",
    "pokemon_file_path: str = dataset_base_path + '/pokemon.csv'\n",
    "dataset_pokemon: pd.DataFrame = pd.read_csv(pokemon_file_path)\n",
    "dataset_pokemon.set_index('#', inplace=True)"
   ]
  },
  {
   "cell_type": "code",
   "execution_count": null,
   "id": "94cd90e8",
   "metadata": {},
   "outputs": [
    {
     "name": "stdout",
     "output_type": "stream",
     "text": [
      " * Serving Flask app '__main__'\n",
      " * Debug mode: off\n"
     ]
    },
    {
     "name": "stderr",
     "output_type": "stream",
     "text": [
      "WARNING: This is a development server. Do not use it in a production deployment. Use a production WSGI server instead.\n",
      " * Running on http://127.0.0.1:5000\n",
      "Press CTRL+C to quit\n",
      "[2025-05-27 20:59:33,340] ERROR in app: Exception on / [GET]\n",
      "Traceback (most recent call last):\n",
      "  File \"c:\\Users\\palaz\\Desktop\\AISISIDF\\venv\\Lib\\site-packages\\flask\\app.py\", line 1511, in wsgi_app\n",
      "    response = self.full_dispatch_request()\n",
      "               ^^^^^^^^^^^^^^^^^^^^^^^^^^^^\n",
      "  File \"c:\\Users\\palaz\\Desktop\\AISISIDF\\venv\\Lib\\site-packages\\flask\\app.py\", line 919, in full_dispatch_request\n",
      "    rv = self.handle_user_exception(e)\n",
      "         ^^^^^^^^^^^^^^^^^^^^^^^^^^^^^\n",
      "  File \"c:\\Users\\palaz\\Desktop\\AISISIDF\\venv\\Lib\\site-packages\\flask\\app.py\", line 917, in full_dispatch_request\n",
      "    rv = self.dispatch_request()\n",
      "         ^^^^^^^^^^^^^^^^^^^^^^^\n",
      "  File \"c:\\Users\\palaz\\Desktop\\AISISIDF\\venv\\Lib\\site-packages\\flask\\app.py\", line 902, in dispatch_request\n",
      "    return self.ensure_sync(self.view_functions[rule.endpoint])(**view_args)  # type: ignore[no-any-return]\n",
      "           ^^^^^^^^^^^^^^^^^^^^^^^^^^^^^^^^^^^^^^^^^^^^^^^^^^^^^^^^^^^^^^^^^\n",
      "  File \"C:\\Users\\palaz\\AppData\\Local\\Temp\\ipykernel_3588\\1383684869.py\", line 12, in one_v_one_battle\n",
      "    return render_template('1v1_battle.html', pokemon_choices=dataset_pokemon['Name'], winner=winner, confidence=confidence)\n",
      "           ^^^^^^^^^^^^^^^^^^^^^^^^^^^^^^^^^^^^^^^^^^^^^^^^^^^^^^^^^^^^^^^^^^^^^^^^^^^^^^^^^^^^^^^^^^^^^^^^^^^^^^^^^^^^^^^^^\n",
      "  File \"c:\\Users\\palaz\\Desktop\\AISISIDF\\venv\\Lib\\site-packages\\flask\\templating.py\", line 149, in render_template\n",
      "    template = app.jinja_env.get_or_select_template(template_name_or_list)\n",
      "               ^^^^^^^^^^^^^^^^^^^^^^^^^^^^^^^^^^^^^^^^^^^^^^^^^^^^^^^^^^^\n",
      "  File \"c:\\Users\\palaz\\Desktop\\AISISIDF\\venv\\Lib\\site-packages\\jinja2\\environment.py\", line 1087, in get_or_select_template\n",
      "    return self.get_template(template_name_or_list, parent, globals)\n",
      "           ^^^^^^^^^^^^^^^^^^^^^^^^^^^^^^^^^^^^^^^^^^^^^^^^^^^^^^^^^\n",
      "  File \"c:\\Users\\palaz\\Desktop\\AISISIDF\\venv\\Lib\\site-packages\\jinja2\\environment.py\", line 1016, in get_template\n",
      "    return self._load_template(name, globals)\n",
      "           ^^^^^^^^^^^^^^^^^^^^^^^^^^^^^^^^^^\n",
      "  File \"c:\\Users\\palaz\\Desktop\\AISISIDF\\venv\\Lib\\site-packages\\jinja2\\environment.py\", line 975, in _load_template\n",
      "    template = self.loader.load(self, name, self.make_globals(globals))\n",
      "               ^^^^^^^^^^^^^^^^^^^^^^^^^^^^^^^^^^^^^^^^^^^^^^^^^^^^^^^^\n",
      "  File \"c:\\Users\\palaz\\Desktop\\AISISIDF\\venv\\Lib\\site-packages\\jinja2\\loaders.py\", line 138, in load\n",
      "    code = environment.compile(source, name, filename)\n",
      "           ^^^^^^^^^^^^^^^^^^^^^^^^^^^^^^^^^^^^^^^^^^^\n",
      "  File \"c:\\Users\\palaz\\Desktop\\AISISIDF\\venv\\Lib\\site-packages\\jinja2\\environment.py\", line 771, in compile\n",
      "    self.handle_exception(source=source_hint)\n",
      "  File \"c:\\Users\\palaz\\Desktop\\AISISIDF\\venv\\Lib\\site-packages\\jinja2\\environment.py\", line 942, in handle_exception\n",
      "    raise rewrite_traceback_stack(source=source)\n",
      "  File \"c:\\Users\\palaz\\Desktop\\AISISIDF\\webpage\\1v1_battle.html\", line 26, in template\n",
      "    {% if winner and if confidence %}\n",
      "    ^^^^^^^^^^^^^^^^^^^^^^^^^\n",
      "jinja2.exceptions.TemplateSyntaxError: expected token 'end of statement block', got 'confidence'\n",
      "127.0.0.1 - - [27/May/2025 20:59:33] \"GET / HTTP/1.1\" 500 -\n",
      "127.0.0.1 - - [27/May/2025 20:59:46] \"GET / HTTP/1.1\" 200 -\n",
      "127.0.0.1 - - [27/May/2025 20:59:48] \"POST / HTTP/1.1\" 200 -\n"
     ]
    }
   ],
   "source": [
    "app: Flask = Flask(__name__, template_folder='webpage')\n",
    "\n",
    "@app.route('/', methods=['GET', 'POST'])\n",
    "def one_v_one_battle():\n",
    "    winner: str = None\n",
    "    confidence: float = None\n",
    "    if request.method == 'POST':\n",
    "        pokemon_first: str = request.form.get('pokemon_first')\n",
    "        pokemon_second: str = request.form.get('pokemon_second')\n",
    "        winner = pokemon_first\n",
    "        confidence = 75.0\n",
    "    return render_template('1v1_battle.html', pokemon_choices=dataset_pokemon['Name'], winner=winner, confidence=confidence)\n",
    "\n",
    "app.run()"
   ]
  }
 ],
 "metadata": {
  "kernelspec": {
   "display_name": "venv",
   "language": "python",
   "name": "python3"
  },
  "language_info": {
   "codemirror_mode": {
    "name": "ipython",
    "version": 3
   },
   "file_extension": ".py",
   "mimetype": "text/x-python",
   "name": "python",
   "nbconvert_exporter": "python",
   "pygments_lexer": "ipython3",
   "version": "3.12.9"
  }
 },
 "nbformat": 4,
 "nbformat_minor": 5
}
